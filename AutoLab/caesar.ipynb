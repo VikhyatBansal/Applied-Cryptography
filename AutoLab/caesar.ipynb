{
 "cells": [
  {
   "cell_type": "code",
   "execution_count": 12,
   "metadata": {},
   "outputs": [],
   "source": [
    "# def caesar(shift,str):\n",
    "#     # String will always be in capital letter \n",
    "#     # Creating a dictionary \n",
    "#     dict_cap = {'A':1,'B':2,'C':3,'D':4,'E':5,'F':6,'G':7,'H':8,'I':9,'J':10,'K':11,'L':12,'M':13,'N':14,'O':15,'P':16,'Q':17,'R':18,'S':19,'T':20,'U':21,'V':22,'W':23,'X':24,'Y':25,'Z':26}\n",
    "    \n",
    "#     dict_cap_rev = {1:'A',2:'B',3:'C',4:'D',5:'E',6:'F',7:'G',8:'H',9:'I',10:'J',11:'K',12:'L',13:'M',14:'N',15:'O',16:'P',17:'Q',18:'R',19:'S',20:'T',21:'U',22:'V',23:'W',24:'X',25:'Y',26:'Z'}\n",
    "    \n",
    "#     if (shift==0):\n",
    "#         return str\n",
    "#     elif(shift>0): #If shift is positive\n",
    "#         output_str = []\n",
    "#         for i in range(len(str)):\n",
    "#             if(str[i] in dict_cap):\n",
    "#                 temp = dict_cap[str[i]]\n",
    "#                 if(temp+shift>26):\n",
    "#                     temp = (temp+shift)%26\n",
    "#                     output_str.append(dict_cap_rev[temp])\n",
    "#                 elif(temp+shift<=26):\n",
    "#                     output_str.append(dict_cap_rev[temp+shift])\n",
    "#             elif(str[i] == \" \"):\n",
    "#                 output_str.append(\" \")\n",
    "                \n",
    "#         out_str = \"\".join(output_str)\n",
    "#         return out_str\n",
    "#     else: # If shift is negative \n",
    "#         shift = abs(shift)\n",
    "#         b = shift%26\n",
    "#         shift = 26 - b\n",
    "#         output_str = []\n",
    "#         for i in range(len(str)):\n",
    "#             if(str[i] in dict_cap):\n",
    "#                 temp = dict_cap[str[i]]\n",
    "#                 if(temp+shift>26):\n",
    "#                     temp = (temp+shift)%26\n",
    "#                     output_str.append(dict_cap_rev[temp])\n",
    "#                 elif(temp+shift<=26):\n",
    "#                     output_str.append(dict_cap_rev[temp+shift])\n",
    "#             elif(str[i] == \" \"):\n",
    "#                 output_str.append(\" \")        \n",
    "#         out_str= \"\".join(output_str)\n",
    "#         return out_str\n",
    "    \n"
   ]
  },
  {
   "cell_type": "code",
   "execution_count": null,
   "metadata": {},
   "outputs": [],
   "source": [
    "# certutil -hashfile <filename> <hashing algorithm>\n",
    "# sha256sum <filename>"
   ]
  },
  {
   "cell_type": "code",
   "execution_count": 13,
   "metadata": {},
   "outputs": [],
   "source": [
    "def egcd(a,b):\n",
    "    if a>b:\n",
    "        a,b=b,a\n",
    "    if a==0:\n",
    "        return (b,0,1)\n",
    "    else:\n",
    "        g,y,x=egcd(b%a,a)\n",
    "        return (g,x-(b//a)*y,y)"
   ]
  },
  {
   "cell_type": "code",
   "execution_count": 14,
   "metadata": {},
   "outputs": [],
   "source": [
    "def gcd(a,b):\n",
    "    a = abs(a)\n",
    "    b = abs(b)\n",
    "    if a >b:\n",
    "        a,b = b,a\n",
    "    if a==0 and b==0:\n",
    "        return \"Invalid\"\n",
    "    elif a==0 :\n",
    "        return b\n",
    "    else:\n",
    "        g = gcd(b%a,a)\n",
    "        return g"
   ]
  },
  {
   "cell_type": "code",
   "execution_count": 16,
   "metadata": {},
   "outputs": [
    {
     "data": {
      "text/plain": [
       "5"
      ]
     },
     "execution_count": 16,
     "metadata": {},
     "output_type": "execute_result"
    }
   ],
   "source": [
    "def multinv(a,m):\n",
    "    g,x,y = egcd(a,m)\n",
    "    if g!=1:\n",
    "        return None\n",
    "    else:\n",
    "        return x%m\n",
    "    \n",
    "multinv(5,12)"
   ]
  },
  {
   "cell_type": "code",
   "execution_count": 19,
   "metadata": {},
   "outputs": [],
   "source": [
    "def caesar(string,shift):\n",
    "    alpha = \"ABCDEFGHIJKLMNOPQRSTUVWXYZ\"\n",
    "    shift = shift%26\n",
    "    result = \"\"\n",
    "    for i in range(len(string)):\n",
    "        result+=(alpha[(alpha.index(string[i])+shift)%26])\n",
    "        \n",
    "    return result\n",
    "\n",
    "def brutedecrypt(str):\n",
    "    for i in range(1,26):\n",
    "        print(caesar(str,i))\n",
    "        \n",
    "    \n"
   ]
  },
  {
   "cell_type": "code",
   "execution_count": 20,
   "metadata": {},
   "outputs": [],
   "source": [
    "def conv(l1,l2):\n",
    "    n = len(l1)+len(l2)-1\n",
    "    l2 = l2[::-1]\n",
    "    coeff = [0]*n\n",
    "    newlist1 = []\n",
    "    for i in range(len(l2)-1):\n",
    "        newlist1.append(0)\n",
    "    for i in range(len(l1)):\n",
    "        newlist1.append(l1[i])\n",
    "    for i in range(len(l2)-1):\n",
    "        newlist1.append(0)\n",
    "    print(newlist1)\n",
    "    for i in range(n):\n",
    "        for j in range(len(l2)):\n",
    "            coeff[i] = coeff[i] + newlist1[i+j]*l2[j]\n",
    "            print(coeff)\n",
    "            \n",
    "    return coeff"
   ]
  },
  {
   "cell_type": "code",
   "execution_count": 6,
   "metadata": {},
   "outputs": [
    {
     "name": "stdout",
     "output_type": "stream",
     "text": [
      "Move disk 1 from source A to destination B\n",
      "Move disk 2 from source A to destination C\n",
      "Move disk 1 from source B to destination C\n",
      "Move disk 3 from source A to destination B\n",
      "Move disk 1 from source C to destination A\n",
      "Move disk 2 from source C to destination B\n",
      "Move disk 1 from source A to destination B\n",
      "Move disk 4 from source A to destination C\n",
      "Move disk 1 from source B to destination C\n",
      "Move disk 2 from source B to destination A\n",
      "Move disk 1 from source C to destination A\n",
      "Move disk 3 from source B to destination C\n",
      "Move disk 1 from source A to destination B\n",
      "Move disk 2 from source A to destination C\n",
      "Move disk 1 from source B to destination C\n"
     ]
    }
   ],
   "source": [
    "def tower(n,source,dest,aux):\n",
    "    if n==0:\n",
    "        return \n",
    "    tower(n-1,source,aux,dest)\n",
    "    print(\"Move disk\",n,\"from source\",source,\"to destination\",dest)\n",
    "    tower(n-1,aux,dest,source)"
   ]
  }
 ],
 "metadata": {
  "kernelspec": {
   "display_name": "ML",
   "language": "python",
   "name": "ml"
  },
  "language_info": {
   "codemirror_mode": {
    "name": "ipython",
    "version": 3
   },
   "file_extension": ".py",
   "mimetype": "text/x-python",
   "name": "python",
   "nbconvert_exporter": "python",
   "pygments_lexer": "ipython3",
   "version": "3.10.9"
  },
  "orig_nbformat": 4
 },
 "nbformat": 4,
 "nbformat_minor": 2
}
