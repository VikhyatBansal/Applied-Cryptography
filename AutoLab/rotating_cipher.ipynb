{
 "cells": [
  {
   "cell_type": "code",
   "execution_count": 1,
   "metadata": {},
   "outputs": [],
   "source": [
    "def rotate(plaintext,key):\n",
    "    mat_lc = [[0 for i in range(26)] for i in range(26)]\n",
    "    mat_capital = [[0 for i in range(26)] for i in range(26)]\n",
    "    alphabets = \"abcdefghijklmnopqrstuvwxyz\"\n",
    "    alphabets_capital = \"ABCDEFGHIJKLMNOPQRSTUVWXYZ\"\n",
    "    cipher = \"\"\n",
    "    cipher_capital = \"\"\n",
    "    \n",
    "    for i in range(26):\n",
    "        for j in range(26):\n",
    "            mat_capital[i][j] = alphabets_capital[(i+j)%26]\n",
    "            \n",
    "    for i in range(26):\n",
    "        for j in range(26):\n",
    "            mat_lc[i][j] = alphabets[(i+j)%26]\n",
    "    \n",
    "    i = 0\n",
    "    for l in range(len(plaintext)):\n",
    "        if(plaintext[l] in alphabets):\n",
    "            cipher += mat_lc[ord(key[i])-97][ord(plaintext[l])-97]\n",
    "            i+=1\n",
    "            if(i==len(key)):\n",
    "                i=0\n",
    "    \n",
    "        elif(plaintext[l] in alphabets_capital):\n",
    "            cipher_capital += mat_capital[ord(key[i])-65][ord(plaintext[l])-65]\n",
    "            i+=1\n",
    "            if(i==len(key)):\n",
    "                i=0\n",
    "            \n",
    "        else:\n",
    "            if(len(cipher_capital)==0):\n",
    "                cipher += \" \"\n",
    "            else:\n",
    "                cipher_capital += \" \"\n",
    "            \n",
    "    if(len(cipher_capital)==0):\n",
    "        return cipher\n",
    "    else:\n",
    "        return cipher_capital\n",
    "            \n",
    "    \n",
    "# rotate(\"holiday\",\"noclass\")"
   ]
  }
 ],
 "metadata": {
  "kernelspec": {
   "display_name": "ML",
   "language": "python",
   "name": "ml"
  },
  "language_info": {
   "codemirror_mode": {
    "name": "ipython",
    "version": 3
   },
   "file_extension": ".py",
   "mimetype": "text/x-python",
   "name": "python",
   "nbconvert_exporter": "python",
   "pygments_lexer": "ipython3",
   "version": "3.10.9"
  },
  "orig_nbformat": 4
 },
 "nbformat": 4,
 "nbformat_minor": 2
}
