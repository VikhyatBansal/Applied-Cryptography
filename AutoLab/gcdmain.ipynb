{
 "cells": [
  {
   "cell_type": "code",
   "execution_count": 14,
   "metadata": {},
   "outputs": [
    {
     "data": {
      "text/plain": [
       "9"
      ]
     },
     "execution_count": 14,
     "metadata": {},
     "output_type": "execute_result"
    }
   ],
   "source": [
    "def gcd(a,b):\n",
    "    a = abs(a)\n",
    "    b = abs(b)           \n",
    "    if(a==b):\n",
    "        return b\n",
    "    elif(b>a):\n",
    "        a,b = b,a\n",
    "        if b==0:\n",
    "            return a\n",
    "        return gcd(b,a%b)\n",
    "    else:\n",
    "        if b==0:\n",
    "            return a\n",
    "        return(gcd(b,a%b))\n",
    "        \n",
    "gcd(81882,5157)\n"
   ]
  },
  {
   "cell_type": "code",
   "execution_count": 15,
   "metadata": {},
   "outputs": [],
   "source": [
    "def gcd(a,b):\n",
    "    a = abs(a)\n",
    "    b = abs(b)\n",
    "    if a==b:\n",
    "        return a\n",
    "    elif b>a:\n",
    "        a,b = b,a\n",
    "        if b==0:\n",
    "            return b\n",
    "        else:\n",
    "            res = 1\n",
    "            i = 1\n",
    "            while i<=b:\n",
    "                if a%i == 0:\n",
    "                    res*=i\n",
    "                    i+=1\n",
    "                else:\n",
    "                    i+=1\n",
    "            return res\n",
    "    else:\n",
    "        if b==0:\n",
    "            return b\n",
    "        else:\n",
    "            res = 1\n",
    "            i = 1\n",
    "            while i<=b:\n",
    "                if a%i == 0:\n",
    "                    res*=i\n",
    "                    i+=1\n",
    "                else:\n",
    "                    i+=1\n",
    "            return res\n",
    "        \n",
    "\n",
    "                "
   ]
  },
  {
   "cell_type": "code",
   "execution_count": null,
   "metadata": {},
   "outputs": [],
   "source": []
  }
 ],
 "metadata": {
  "kernelspec": {
   "display_name": "ML",
   "language": "python",
   "name": "ml"
  },
  "language_info": {
   "codemirror_mode": {
    "name": "ipython",
    "version": 3
   },
   "file_extension": ".py",
   "mimetype": "text/x-python",
   "name": "python",
   "nbconvert_exporter": "python",
   "pygments_lexer": "ipython3",
   "version": "3.10.9"
  },
  "orig_nbformat": 4
 },
 "nbformat": 4,
 "nbformat_minor": 2
}
